{
 "cells": [
  {
   "cell_type": "markdown",
   "id": "dfdc2892",
   "metadata": {},
   "source": [
    "### Stemming and Lemitization"
   ]
  },
  {
   "cell_type": "code",
   "execution_count": 1,
   "id": "c1834e03",
   "metadata": {},
   "outputs": [],
   "source": [
    "import nltk"
   ]
  },
  {
   "cell_type": "code",
   "execution_count": null,
   "id": "489497c6",
   "metadata": {},
   "outputs": [
    {
     "name": "stdout",
     "output_type": "stream",
     "text": [
      "showing info https://raw.githubusercontent.com/nltk/nltk_data/gh-pages/index.xml\n"
     ]
    }
   ],
   "source": [
    "nltk.download()"
   ]
  },
  {
   "cell_type": "code",
   "execution_count": 2,
   "id": "a5a80461",
   "metadata": {},
   "outputs": [],
   "source": [
    "from nltk.stem import PorterStemmer\n",
    "from nltk.corpus import stopwords"
   ]
  },
  {
   "cell_type": "code",
   "execution_count": 3,
   "id": "e2f0aa53",
   "metadata": {},
   "outputs": [],
   "source": [
    "paragraph=\"\"\"Greeting everyone. Today, I am here to deliver a speech on APJ Abdul Kalam. Dr APJ Abdul Kalam’s \n",
    "full name was Avul Pakir Zainuldeben Abdul Kalam, very few people know him by his full name as he was mostly\n",
    "addressed as ‘Missile Man of India’ and ‘People’s President’. He was born into a very poor family in Rameswaram \n",
    "on October 15, 1931. \n",
    "\n",
    " \n",
    "\n",
    "Since childhood, he enjoyed flying, and was equally curious to know how birds fly in the air? He was very intelligent\n",
    "and enjoyed reading, but his family did not have sufficient income for his school fees, so to support his education, \n",
    "he would wake up early in the morning and ride a bicycle 3 kilometres from home to collect newspapers and sell them. \n",
    "\n",
    "\n",
    "He was admitted to St. Joseph's College, Tiruchirapalli, and later he went on to complete a degree in physics in 1954 \n",
    "and then studied at the Madras Institute of Technology and graduated in aeronautical engineering in 1955. Since his \n",
    "childhood, Dr Abdul Alam wanted to be a pilot but couldn’t make his dream come true. He learned from his mistakes \n",
    "and accomplished numerous achievements in his life. After completing his degree, Abdul Kalam entered the Defense\n",
    "Department of India. He has been one of the key figures in building the nuclear capabilities of India.\n",
    "\n",
    " \n",
    "\n",
    "APJ Abdul Kalam was appointed to the Indian Ministry of Defense as a Technical Advisor in 1992, after which he served \n",
    "with DRDO and ISRO, the country's largest organization. Considered a national hero for successful nuclear tests in 1998,\n",
    "a second successful nuclear test was conducted in Pokhran the same year under his supervision, after which India was \n",
    "included in the list of nuclear-powered nations. Abdul Kalam has been active in all space programs and development\n",
    "programs in India as a scientist. For developing India's Agni missile, Kalam was called 'Missile Man.'Abdul Kalam made a \n",
    "special technological and scientific contribution, for which, along with Bharat Ratna, India's highest honour, he was \n",
    "awarded the Padma Bhushan, Padam Vibhushan, etc. He was also awarded an honorary doctorate by more than 30 universities \n",
    "in the world for the same. \"\"\""
   ]
  },
  {
   "cell_type": "code",
   "execution_count": 4,
   "id": "c74fbb52",
   "metadata": {},
   "outputs": [],
   "source": [
    "sentences=nltk.sent_tokenize(paragraph)"
   ]
  },
  {
   "cell_type": "code",
   "execution_count": 6,
   "id": "ce9337e7",
   "metadata": {},
   "outputs": [],
   "source": [
    "stemmer=PorterStemmer()\n",
    "\n",
    "for i in range(0, len(sentences)):\n",
    "    words=nltk.word_tokenize(sentences[i])\n",
    "    \n",
    "    words=[stemmer.stem(word) for word in words if word not in set(stopwords.words('english'))]\n",
    "    \n",
    "    sentences[i]=\" \".join(words)\n",
    "    "
   ]
  },
  {
   "cell_type": "code",
   "execution_count": 7,
   "id": "8ab2bc99",
   "metadata": {},
   "outputs": [
    {
     "data": {
      "text/plain": [
       "['greet everyon .',\n",
       " 'today , i deliv speech apj abdul kalam .',\n",
       " 'dr apj abdul kalam ’ full name avul pakir zainuldeben abdul kalam , peopl know full name mostli address ‘ missil man india ’ ‘ peopl ’ presid ’ .',\n",
       " 'he born poor famili rameswaram octob 15 , 1931 .',\n",
       " 'sinc childhood , enjoy fli , equal curiou know bird fli air ?',\n",
       " 'he intellig enjoy read , famili suffici incom school fee , support educ , would wake earli morn ride bicycl 3 kilometr home collect newspap sell .',\n",
       " \"he admit st. joseph 's colleg , tiruchirap , later went complet degre physic 1954 studi madra institut technolog graduat aeronaut engin 1955 .\",\n",
       " 'sinc childhood , dr abdul alam want pilot ’ make dream come true .',\n",
       " 'he learn mistak accomplish numer achiev life .',\n",
       " 'after complet degre , abdul kalam enter defens depart india .',\n",
       " 'he one key figur build nuclear capabl india .',\n",
       " \"apj abdul kalam appoint indian ministri defens technic advisor 1992 , serv drdo isro , countri 's largest organ .\",\n",
       " 'consid nation hero success nuclear test 1998 , second success nuclear test conduct pokhran year supervis , india includ list nuclear-pow nation .',\n",
       " 'abdul kalam activ space program develop program india scientist .',\n",
       " \"for develop india 's agni missil , kalam call 'missil man .\",\n",
       " \"'abdul kalam made special technolog scientif contribut , , along bharat ratna , india 's highest honour , award padma bhushan , padam vibhushan , etc .\",\n",
       " 'he also award honorari doctor 30 univers world .']"
      ]
     },
     "execution_count": 7,
     "metadata": {},
     "output_type": "execute_result"
    }
   ],
   "source": [
    "sentences"
   ]
  },
  {
   "cell_type": "markdown",
   "id": "ca6d52e2",
   "metadata": {},
   "source": [
    "### Lemmatization"
   ]
  },
  {
   "cell_type": "code",
   "execution_count": 10,
   "id": "d4051ba3",
   "metadata": {},
   "outputs": [],
   "source": [
    "from nltk.stem import WordNetLemmatizer\n"
   ]
  },
  {
   "cell_type": "code",
   "execution_count": 12,
   "id": "b3186f35",
   "metadata": {},
   "outputs": [],
   "source": [
    "sent=nltk.sent_tokenize(paragraph)"
   ]
  },
  {
   "cell_type": "code",
   "execution_count": 16,
   "id": "8a78c9a5",
   "metadata": {},
   "outputs": [],
   "source": [
    "lemmatizer=WordNetLemmatizer()"
   ]
  },
  {
   "cell_type": "code",
   "execution_count": 17,
   "id": "4e96cdd3",
   "metadata": {},
   "outputs": [],
   "source": [
    "for i in range(0, len(sent)):\n",
    "    words=nltk.word_tokenize(sent[i])\n",
    "    words=[lemmatizer.lemmatize(word) for word in words if word not in stopwords.words('english')]\n",
    "    sent[i]=\" \".join(words)"
   ]
  },
  {
   "cell_type": "code",
   "execution_count": 18,
   "id": "a404bb45",
   "metadata": {},
   "outputs": [
    {
     "data": {
      "text/plain": [
       "['Greeting everyone .',\n",
       " 'Today , I deliver speech APJ Abdul Kalam .',\n",
       " 'Dr APJ Abdul Kalam ’ full name Avul Pakir Zainuldeben Abdul Kalam , people know full name mostly addressed ‘ Missile Man India ’ ‘ People ’ President ’ .',\n",
       " 'He born poor family Rameswaram October 15 , 1931 .',\n",
       " 'Since childhood , enjoyed flying , equally curious know bird fly air ?',\n",
       " 'He intelligent enjoyed reading , family sufficient income school fee , support education , would wake early morning ride bicycle 3 kilometre home collect newspaper sell .',\n",
       " \"He admitted St. Joseph 's College , Tiruchirapalli , later went complete degree physic 1954 studied Madras Institute Technology graduated aeronautical engineering 1955 .\",\n",
       " 'Since childhood , Dr Abdul Alam wanted pilot ’ make dream come true .',\n",
       " 'He learned mistake accomplished numerous achievement life .',\n",
       " 'After completing degree , Abdul Kalam entered Defense Department India .',\n",
       " 'He one key figure building nuclear capability India .',\n",
       " \"APJ Abdul Kalam appointed Indian Ministry Defense Technical Advisor 1992 , served DRDO ISRO , country 's largest organization .\",\n",
       " 'Considered national hero successful nuclear test 1998 , second successful nuclear test conducted Pokhran year supervision , India included list nuclear-powered nation .',\n",
       " 'Abdul Kalam active space program development program India scientist .',\n",
       " \"For developing India 's Agni missile , Kalam called 'Missile Man .\",\n",
       " \"'Abdul Kalam made special technological scientific contribution , , along Bharat Ratna , India 's highest honour , awarded Padma Bhushan , Padam Vibhushan , etc .\",\n",
       " 'He also awarded honorary doctorate 30 university world .']"
      ]
     },
     "execution_count": 18,
     "metadata": {},
     "output_type": "execute_result"
    }
   ],
   "source": [
    "sent"
   ]
  },
  {
   "cell_type": "markdown",
   "id": "67034a4c",
   "metadata": {},
   "source": [
    "### Compare Lemmatizer and Stemming"
   ]
  },
  {
   "cell_type": "code",
   "execution_count": 20,
   "id": "dc96ea93",
   "metadata": {},
   "outputs": [
    {
     "name": "stdout",
     "output_type": "stream",
     "text": [
      "greet everyon .\n",
      "Greeting everyone .\n",
      "-------------------------------------------------\n",
      "today , i deliv speech apj abdul kalam .\n",
      "Today , I deliver speech APJ Abdul Kalam .\n",
      "-------------------------------------------------\n",
      "dr apj abdul kalam ’ full name avul pakir zainuldeben abdul kalam , peopl know full name mostli address ‘ missil man india ’ ‘ peopl ’ presid ’ .\n",
      "Dr APJ Abdul Kalam ’ full name Avul Pakir Zainuldeben Abdul Kalam , people know full name mostly addressed ‘ Missile Man India ’ ‘ People ’ President ’ .\n",
      "-------------------------------------------------\n",
      "he born poor famili rameswaram octob 15 , 1931 .\n",
      "He born poor family Rameswaram October 15 , 1931 .\n",
      "-------------------------------------------------\n",
      "sinc childhood , enjoy fli , equal curiou know bird fli air ?\n",
      "Since childhood , enjoyed flying , equally curious know bird fly air ?\n",
      "-------------------------------------------------\n",
      "he intellig enjoy read , famili suffici incom school fee , support educ , would wake earli morn ride bicycl 3 kilometr home collect newspap sell .\n",
      "He intelligent enjoyed reading , family sufficient income school fee , support education , would wake early morning ride bicycle 3 kilometre home collect newspaper sell .\n",
      "-------------------------------------------------\n",
      "he admit st. joseph 's colleg , tiruchirap , later went complet degre physic 1954 studi madra institut technolog graduat aeronaut engin 1955 .\n",
      "He admitted St. Joseph 's College , Tiruchirapalli , later went complete degree physic 1954 studied Madras Institute Technology graduated aeronautical engineering 1955 .\n",
      "-------------------------------------------------\n",
      "sinc childhood , dr abdul alam want pilot ’ make dream come true .\n",
      "Since childhood , Dr Abdul Alam wanted pilot ’ make dream come true .\n",
      "-------------------------------------------------\n",
      "he learn mistak accomplish numer achiev life .\n",
      "He learned mistake accomplished numerous achievement life .\n",
      "-------------------------------------------------\n",
      "after complet degre , abdul kalam enter defens depart india .\n",
      "After completing degree , Abdul Kalam entered Defense Department India .\n",
      "-------------------------------------------------\n",
      "he one key figur build nuclear capabl india .\n",
      "He one key figure building nuclear capability India .\n",
      "-------------------------------------------------\n",
      "apj abdul kalam appoint indian ministri defens technic advisor 1992 , serv drdo isro , countri 's largest organ .\n",
      "APJ Abdul Kalam appointed Indian Ministry Defense Technical Advisor 1992 , served DRDO ISRO , country 's largest organization .\n",
      "-------------------------------------------------\n",
      "consid nation hero success nuclear test 1998 , second success nuclear test conduct pokhran year supervis , india includ list nuclear-pow nation .\n",
      "Considered national hero successful nuclear test 1998 , second successful nuclear test conducted Pokhran year supervision , India included list nuclear-powered nation .\n",
      "-------------------------------------------------\n",
      "abdul kalam activ space program develop program india scientist .\n",
      "Abdul Kalam active space program development program India scientist .\n",
      "-------------------------------------------------\n",
      "for develop india 's agni missil , kalam call 'missil man .\n",
      "For developing India 's Agni missile , Kalam called 'Missile Man .\n",
      "-------------------------------------------------\n",
      "'abdul kalam made special technolog scientif contribut , , along bharat ratna , india 's highest honour , award padma bhushan , padam vibhushan , etc .\n",
      "'Abdul Kalam made special technological scientific contribution , , along Bharat Ratna , India 's highest honour , awarded Padma Bhushan , Padam Vibhushan , etc .\n",
      "-------------------------------------------------\n",
      "he also award honorari doctor 30 univers world .\n",
      "He also awarded honorary doctorate 30 university world .\n",
      "-------------------------------------------------\n"
     ]
    }
   ],
   "source": [
    "for i in range(0, len(sent)):\n",
    "    print(f\"{sentences[i]}\")\n",
    "    print(f\"{sent[i]}\")\n",
    "    print(\"-------------------------------------------------\")"
   ]
  },
  {
   "cell_type": "code",
   "execution_count": null,
   "id": "91e7bf3a",
   "metadata": {},
   "outputs": [],
   "source": []
  }
 ],
 "metadata": {
  "kernelspec": {
   "display_name": "Python 3 (ipykernel)",
   "language": "python",
   "name": "python3"
  },
  "language_info": {
   "codemirror_mode": {
    "name": "ipython",
    "version": 3
   },
   "file_extension": ".py",
   "mimetype": "text/x-python",
   "name": "python",
   "nbconvert_exporter": "python",
   "pygments_lexer": "ipython3",
   "version": "3.9.7"
  }
 },
 "nbformat": 4,
 "nbformat_minor": 5
}
