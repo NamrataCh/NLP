{
 "cells": [
  {
   "cell_type": "markdown",
   "id": "2b19d487",
   "metadata": {},
   "source": [
    "### Term Frequency and Inverse Document Frequency (TF-IDF)"
   ]
  },
  {
   "cell_type": "raw",
   "id": "af32e2c5",
   "metadata": {},
   "source": [
    "Term frequency =  no of repetations of words /no of words in a sentence"
   ]
  },
  {
   "cell_type": "raw",
   "id": "e603a5d9",
   "metadata": {},
   "source": [
    "IDF= log(no of sentences/  no of sentences containing the word)"
   ]
  },
  {
   "cell_type": "raw",
   "id": "15d7b355",
   "metadata": {},
   "source": [
    "TF * IDF"
   ]
  },
  {
   "cell_type": "code",
   "execution_count": 2,
   "id": "40b4166a",
   "metadata": {},
   "outputs": [],
   "source": [
    "import nltk"
   ]
  },
  {
   "cell_type": "code",
   "execution_count": 3,
   "id": "93b4fe49",
   "metadata": {},
   "outputs": [],
   "source": [
    "paragraph=\"\"\"Greeting everyone. Today, I am here to deliver a speech on APJ Abdul Kalam. Dr APJ Abdul Kalam’s \n",
    "full name was Avul Pakir Zainuldeben Abdul Kalam, very few people know him by his full name as he was mostly\n",
    "addressed as ‘Missile Man of India’ and ‘People’s President’. He was born into a very poor family in Rameswaram \n",
    "on October 15, 1931. \n",
    "\n",
    " \n",
    "\n",
    "Since childhood, he enjoyed flying, and was equally curious to know how birds fly in the air? He was very intelligent\n",
    "and enjoyed reading, but his family did not have sufficient income for his school fees, so to support his education, \n",
    "he would wake up early in the morning and ride a bicycle 3 kilometres from home to collect newspapers and sell them. \n",
    "\n",
    "\n",
    "He was admitted to St. Joseph's College, Tiruchirapalli, and later he went on to complete a degree in physics in 1954 \n",
    "and then studied at the Madras Institute of Technology and graduated in aeronautical engineering in 1955. Since his \n",
    "childhood, Dr Abdul Alam wanted to be a pilot but couldn’t make his dream come true. He learned from his mistakes \n",
    "and accomplished numerous achievements in his life. After completing his degree, Abdul Kalam entered the Defense\n",
    "Department of India. He has been one of the key figures in building the nuclear capabilities of India.\n",
    "\n",
    " \n",
    "\n",
    "APJ Abdul Kalam was appointed to the Indian Ministry of Defense as a Technical Advisor in 1992, after which he served \n",
    "with DRDO and ISRO, the country's largest organization. Considered a national hero for successful nuclear tests in 1998,\n",
    "a second successful nuclear test was conducted in Pokhran the same year under his supervision, after which India was \n",
    "included in the list of nuclear-powered nations. Abdul Kalam has been active in all space programs and development\n",
    "programs in India as a scientist. For developing India's Agni missile, Kalam was called 'Missile Man.'Abdul Kalam made a \n",
    "special technological and scientific contribution, for which, along with Bharat Ratna, India's highest honour, he was \n",
    "awarded the Padma Bhushan, Padam Vibhushan, etc. He was also awarded an honorary doctorate by more than 30 universities \n",
    "in the world for the same. \"\"\""
   ]
  },
  {
   "cell_type": "code",
   "execution_count": 4,
   "id": "5bae23b6",
   "metadata": {},
   "outputs": [],
   "source": [
    "import re\n",
    "from nltk.stem import PorterStemmer\n",
    "from nltk.stem import WordNetLemmatizer\n",
    "from nltk.corpus import stopwords"
   ]
  },
  {
   "cell_type": "code",
   "execution_count": 6,
   "id": "0d313bc1",
   "metadata": {},
   "outputs": [],
   "source": [
    "#ps=PorterStemmer()\n",
    "wordnet=WordNetLemmatizer()\n",
    "sentences=nltk.sent_tokenize(paragraph)\n",
    "corpus=[]\n",
    "\n",
    "for i in range(len(sentences)):\n",
    "    review=re.sub(\"[^a-zA-Z]\", \" \", sentences[i])\n",
    "    review=review.lower()\n",
    "    review=review.split()\n",
    "    review=[wordnet.lemmatize(word) for word in review if word not in stopwords.words('english')]\n",
    "    review=\" \".join(review)\n",
    "    corpus.append(review)\n",
    "    \n"
   ]
  },
  {
   "cell_type": "code",
   "execution_count": 7,
   "id": "b0a8ce26",
   "metadata": {},
   "outputs": [
    {
     "data": {
      "text/plain": [
       "['greeting everyone',\n",
       " 'today deliver speech apj abdul kalam',\n",
       " 'dr apj abdul kalam full name avul pakir zainuldeben abdul kalam people know full name mostly addressed missile man india people president',\n",
       " 'born poor family rameswaram october',\n",
       " 'since childhood enjoyed flying equally curious know bird fly air',\n",
       " 'intelligent enjoyed reading family sufficient income school fee support education would wake early morning ride bicycle kilometre home collect newspaper sell',\n",
       " 'admitted st joseph college tiruchirapalli later went complete degree physic studied madras institute technology graduated aeronautical engineering',\n",
       " 'since childhood dr abdul alam wanted pilot make dream come true',\n",
       " 'learned mistake accomplished numerous achievement life',\n",
       " 'completing degree abdul kalam entered defense department india',\n",
       " 'one key figure building nuclear capability india',\n",
       " 'apj abdul kalam appointed indian ministry defense technical advisor served drdo isro country largest organization',\n",
       " 'considered national hero successful nuclear test second successful nuclear test conducted pokhran year supervision india included list nuclear powered nation',\n",
       " 'abdul kalam active space program development program india scientist',\n",
       " 'developing india agni missile kalam called missile man',\n",
       " 'abdul kalam made special technological scientific contribution along bharat ratna india highest honour awarded padma bhushan padam vibhushan etc',\n",
       " 'also awarded honorary doctorate university world']"
      ]
     },
     "execution_count": 7,
     "metadata": {},
     "output_type": "execute_result"
    }
   ],
   "source": [
    "corpus"
   ]
  },
  {
   "cell_type": "code",
   "execution_count": 11,
   "id": "5a86c7dc",
   "metadata": {},
   "outputs": [],
   "source": [
    "from sklearn.feature_extraction.text import TfidfVectorizer\n",
    "cv=TfidfVectorizer()\n",
    "X=cv.fit_transform(corpus).toarray()"
   ]
  },
  {
   "cell_type": "code",
   "execution_count": 12,
   "id": "71ce35d8",
   "metadata": {},
   "outputs": [
    {
     "data": {
      "text/plain": [
       "array([[0.        , 0.        , 0.        , ..., 0.        , 0.        ,\n",
       "        0.        ],\n",
       "       [0.27458492, 0.        , 0.        , ..., 0.        , 0.        ,\n",
       "        0.        ],\n",
       "       [0.22862724, 0.        , 0.        , ..., 0.        , 0.        ,\n",
       "        0.20182242],\n",
       "       ...,\n",
       "       [0.        , 0.        , 0.        , ..., 0.        , 0.        ,\n",
       "        0.        ],\n",
       "       [0.13849906, 0.        , 0.        , ..., 0.        , 0.        ,\n",
       "        0.        ],\n",
       "       [0.        , 0.        , 0.        , ..., 0.        , 0.        ,\n",
       "        0.        ]])"
      ]
     },
     "execution_count": 12,
     "metadata": {},
     "output_type": "execute_result"
    }
   ],
   "source": [
    "X"
   ]
  },
  {
   "cell_type": "code",
   "execution_count": null,
   "id": "e4d2ba8f",
   "metadata": {},
   "outputs": [],
   "source": []
  }
 ],
 "metadata": {
  "kernelspec": {
   "display_name": "Python 3 (ipykernel)",
   "language": "python",
   "name": "python3"
  },
  "language_info": {
   "codemirror_mode": {
    "name": "ipython",
    "version": 3
   },
   "file_extension": ".py",
   "mimetype": "text/x-python",
   "name": "python",
   "nbconvert_exporter": "python",
   "pygments_lexer": "ipython3",
   "version": "3.9.7"
  }
 },
 "nbformat": 4,
 "nbformat_minor": 5
}
