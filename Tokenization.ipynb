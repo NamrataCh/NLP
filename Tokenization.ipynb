{
 "cells": [
  {
   "cell_type": "markdown",
   "id": "8eec540b",
   "metadata": {},
   "source": [
    "### Tokenization"
   ]
  },
  {
   "cell_type": "code",
   "execution_count": 1,
   "id": "b177e7f1",
   "metadata": {},
   "outputs": [],
   "source": [
    "import nltk"
   ]
  },
  {
   "cell_type": "code",
   "execution_count": 2,
   "id": "9512b0ad",
   "metadata": {},
   "outputs": [
    {
     "name": "stdout",
     "output_type": "stream",
     "text": [
      "showing info https://raw.githubusercontent.com/nltk/nltk_data/gh-pages/index.xml\n"
     ]
    },
    {
     "data": {
      "text/plain": [
       "True"
      ]
     },
     "execution_count": 2,
     "metadata": {},
     "output_type": "execute_result"
    }
   ],
   "source": [
    "nltk.download()"
   ]
  },
  {
   "cell_type": "code",
   "execution_count": 3,
   "id": "2bed732e",
   "metadata": {},
   "outputs": [],
   "source": [
    "para=\"Greeting everyone. Today, I am here to deliver a speech on APJ Abdul Kalam. Dr APJ Abdul Kalam’s full name was Avul Pakir Zainuldeben Abdul Kalam, very few people know him by his full name as he was mostly addressed as ‘Missile Man of India’ and ‘People’s President’. He was born into a very poor family in Rameswaram on October 15, 1931. Since childhood, he enjoyed flying, and was equally curious to know how birds fly in the air? He was very intelligent and enjoyed reading, but his family did not have sufficient income for his school fees, so to support his education, he would wake up early in the morning and ride a bicycle 3 kilometres from home to collect newspapers and sell them. \""
   ]
  },
  {
   "cell_type": "code",
   "execution_count": 4,
   "id": "817ba09d",
   "metadata": {},
   "outputs": [],
   "source": [
    "sentences=nltk.sent_tokenize(para)"
   ]
  },
  {
   "cell_type": "code",
   "execution_count": 5,
   "id": "49b02fe5",
   "metadata": {},
   "outputs": [],
   "source": [
    "word=nltk.word_tokenize(para)"
   ]
  },
  {
   "cell_type": "code",
   "execution_count": 6,
   "id": "46c7bcff",
   "metadata": {},
   "outputs": [
    {
     "data": {
      "text/plain": [
       "['Greeting everyone.',\n",
       " 'Today, I am here to deliver a speech on APJ Abdul Kalam.',\n",
       " 'Dr APJ Abdul Kalam’s full name was Avul Pakir Zainuldeben Abdul Kalam, very few people know him by his full name as he was mostly addressed as ‘Missile Man of India’ and ‘People’s President’.',\n",
       " 'He was born into a very poor family in Rameswaram on October 15, 1931.',\n",
       " 'Since childhood, he enjoyed flying, and was equally curious to know how birds fly in the air?',\n",
       " 'He was very intelligent and enjoyed reading, but his family did not have sufficient income for his school fees, so to support his education, he would wake up early in the morning and ride a bicycle 3 kilometres from home to collect newspapers and sell them.']"
      ]
     },
     "execution_count": 6,
     "metadata": {},
     "output_type": "execute_result"
    }
   ],
   "source": [
    "sentences"
   ]
  },
  {
   "cell_type": "code",
   "execution_count": 7,
   "id": "18a54460",
   "metadata": {},
   "outputs": [
    {
     "data": {
      "text/plain": [
       "['Greeting',\n",
       " 'everyone',\n",
       " '.',\n",
       " 'Today',\n",
       " ',',\n",
       " 'I',\n",
       " 'am',\n",
       " 'here',\n",
       " 'to',\n",
       " 'deliver',\n",
       " 'a',\n",
       " 'speech',\n",
       " 'on',\n",
       " 'APJ',\n",
       " 'Abdul',\n",
       " 'Kalam',\n",
       " '.',\n",
       " 'Dr',\n",
       " 'APJ',\n",
       " 'Abdul',\n",
       " 'Kalam',\n",
       " '’',\n",
       " 's',\n",
       " 'full',\n",
       " 'name',\n",
       " 'was',\n",
       " 'Avul',\n",
       " 'Pakir',\n",
       " 'Zainuldeben',\n",
       " 'Abdul',\n",
       " 'Kalam',\n",
       " ',',\n",
       " 'very',\n",
       " 'few',\n",
       " 'people',\n",
       " 'know',\n",
       " 'him',\n",
       " 'by',\n",
       " 'his',\n",
       " 'full',\n",
       " 'name',\n",
       " 'as',\n",
       " 'he',\n",
       " 'was',\n",
       " 'mostly',\n",
       " 'addressed',\n",
       " 'as',\n",
       " '‘',\n",
       " 'Missile',\n",
       " 'Man',\n",
       " 'of',\n",
       " 'India',\n",
       " '’',\n",
       " 'and',\n",
       " '‘',\n",
       " 'People',\n",
       " '’',\n",
       " 's',\n",
       " 'President',\n",
       " '’',\n",
       " '.',\n",
       " 'He',\n",
       " 'was',\n",
       " 'born',\n",
       " 'into',\n",
       " 'a',\n",
       " 'very',\n",
       " 'poor',\n",
       " 'family',\n",
       " 'in',\n",
       " 'Rameswaram',\n",
       " 'on',\n",
       " 'October',\n",
       " '15',\n",
       " ',',\n",
       " '1931',\n",
       " '.',\n",
       " 'Since',\n",
       " 'childhood',\n",
       " ',',\n",
       " 'he',\n",
       " 'enjoyed',\n",
       " 'flying',\n",
       " ',',\n",
       " 'and',\n",
       " 'was',\n",
       " 'equally',\n",
       " 'curious',\n",
       " 'to',\n",
       " 'know',\n",
       " 'how',\n",
       " 'birds',\n",
       " 'fly',\n",
       " 'in',\n",
       " 'the',\n",
       " 'air',\n",
       " '?',\n",
       " 'He',\n",
       " 'was',\n",
       " 'very',\n",
       " 'intelligent',\n",
       " 'and',\n",
       " 'enjoyed',\n",
       " 'reading',\n",
       " ',',\n",
       " 'but',\n",
       " 'his',\n",
       " 'family',\n",
       " 'did',\n",
       " 'not',\n",
       " 'have',\n",
       " 'sufficient',\n",
       " 'income',\n",
       " 'for',\n",
       " 'his',\n",
       " 'school',\n",
       " 'fees',\n",
       " ',',\n",
       " 'so',\n",
       " 'to',\n",
       " 'support',\n",
       " 'his',\n",
       " 'education',\n",
       " ',',\n",
       " 'he',\n",
       " 'would',\n",
       " 'wake',\n",
       " 'up',\n",
       " 'early',\n",
       " 'in',\n",
       " 'the',\n",
       " 'morning',\n",
       " 'and',\n",
       " 'ride',\n",
       " 'a',\n",
       " 'bicycle',\n",
       " '3',\n",
       " 'kilometres',\n",
       " 'from',\n",
       " 'home',\n",
       " 'to',\n",
       " 'collect',\n",
       " 'newspapers',\n",
       " 'and',\n",
       " 'sell',\n",
       " 'them',\n",
       " '.']"
      ]
     },
     "execution_count": 7,
     "metadata": {},
     "output_type": "execute_result"
    }
   ],
   "source": [
    "word"
   ]
  },
  {
   "cell_type": "code",
   "execution_count": null,
   "id": "9194cea0",
   "metadata": {},
   "outputs": [],
   "source": []
  }
 ],
 "metadata": {
  "kernelspec": {
   "display_name": "Python 3 (ipykernel)",
   "language": "python",
   "name": "python3"
  },
  "language_info": {
   "codemirror_mode": {
    "name": "ipython",
    "version": 3
   },
   "file_extension": ".py",
   "mimetype": "text/x-python",
   "name": "python",
   "nbconvert_exporter": "python",
   "pygments_lexer": "ipython3",
   "version": "3.9.7"
  }
 },
 "nbformat": 4,
 "nbformat_minor": 5
}
