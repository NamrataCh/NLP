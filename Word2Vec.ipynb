{
 "cells": [
  {
   "cell_type": "code",
   "execution_count": 1,
   "id": "8412b376",
   "metadata": {},
   "outputs": [],
   "source": [
    "import nltk\n",
    "\n",
    "from gensim.models import Word2Vec"
   ]
  },
  {
   "cell_type": "code",
   "execution_count": 2,
   "id": "8b4374a0",
   "metadata": {},
   "outputs": [],
   "source": [
    "paragraph=\"\"\"Greeting everyone. Today, I am here to deliver a speech on APJ Abdul Kalam. Dr APJ Abdul Kalam’s \n",
    "full name was Avul Pakir Zainuldeben Abdul Kalam, very few people know him by his full name as he was mostly\n",
    "addressed as ‘Missile Man of India’ and ‘People’s President’. He was born into a very poor family in Rameswaram \n",
    "on October 15, 1931. \n",
    "\n",
    " \n",
    "\n",
    "Since childhood, he enjoyed flying, and was equally curious to know how birds fly in the air? He was very intelligent\n",
    "and enjoyed reading, but his family did not have sufficient income for his school fees, so to support his education, \n",
    "he would wake up early in the morning and ride a bicycle 3 kilometres from home to collect newspapers and sell them. \n",
    "\n",
    "\n",
    "He was admitted to St. Joseph's College, Tiruchirapalli, and later he went on to complete a degree in physics in 1954 \n",
    "and then studied at the Madras Institute of Technology and graduated in aeronautical engineering in 1955. Since his \n",
    "childhood, Dr Abdul Alam wanted to be a pilot but couldn’t make his dream come true. He learned from his mistakes \n",
    "and accomplished numerous achievements in his life. After completing his degree, Abdul Kalam entered the Defense\n",
    "Department of India. He has been one of the key figures in building the nuclear capabilities of India.\n",
    "\n",
    " \n",
    "\n",
    "APJ Abdul Kalam was appointed to the Indian Ministry of Defense as a Technical Advisor in 1992, after which he served \n",
    "with DRDO and ISRO, the country's largest organization. Considered a national hero for successful nuclear tests in 1998,\n",
    "a second successful nuclear test was conducted in Pokhran the same year under his supervision, after which India was \n",
    "included in the list of nuclear-powered nations. Abdul Kalam has been active in all space programs and development\n",
    "programs in India as a scientist. For developing India's Agni missile, Kalam was called 'Missile Man.'Abdul Kalam made a \n",
    "special technological and scientific contribution, for which, along with Bharat Ratna, India's highest honour, he was \n",
    "awarded the Padma Bhushan, Padam Vibhushan, etc. He was also awarded an honorary doctorate by more than 30 universities \n",
    "in the world for the same. \"\"\""
   ]
  },
  {
   "cell_type": "code",
   "execution_count": 4,
   "id": "2ecfebc3",
   "metadata": {},
   "outputs": [],
   "source": [
    "from nltk.corpus import stopwords\n",
    "import re"
   ]
  },
  {
   "cell_type": "code",
   "execution_count": 6,
   "id": "2bf27634",
   "metadata": {},
   "outputs": [],
   "source": [
    "text=re.sub(r\"\\[[0-9]*\\]\", \" \",paragraph)\n",
    "text=re.sub(r\"\\s+\", \" \", text)\n",
    "text=text.lower()\n",
    "text=re.sub(r\"\\d\", \" \", text)\n",
    "text=re.sub(r\"\\s+\", \" \", text)\n",
    "\n"
   ]
  },
  {
   "cell_type": "code",
   "execution_count": 7,
   "id": "332a8249",
   "metadata": {},
   "outputs": [
    {
     "data": {
      "text/plain": [
       "\"greeting everyone. today, i am here to deliver a speech on apj abdul kalam. dr apj abdul kalam’s full name was avul pakir zainuldeben abdul kalam, very few people know him by his full name as he was mostly addressed as ‘missile man of india’ and ‘people’s president’. he was born into a very poor family in rameswaram on october , . since childhood, he enjoyed flying, and was equally curious to know how birds fly in the air? he was very intelligent and enjoyed reading, but his family did not have sufficient income for his school fees, so to support his education, he would wake up early in the morning and ride a bicycle kilometres from home to collect newspapers and sell them. he was admitted to st. joseph's college, tiruchirapalli, and later he went on to complete a degree in physics in and then studied at the madras institute of technology and graduated in aeronautical engineering in . since his childhood, dr abdul alam wanted to be a pilot but couldn’t make his dream come true. he learned from his mistakes and accomplished numerous achievements in his life. after completing his degree, abdul kalam entered the defense department of india. he has been one of the key figures in building the nuclear capabilities of india. apj abdul kalam was appointed to the indian ministry of defense as a technical advisor in , after which he served with drdo and isro, the country's largest organization. considered a national hero for successful nuclear tests in , a second successful nuclear test was conducted in pokhran the same year under his supervision, after which india was included in the list of nuclear-powered nations. abdul kalam has been active in all space programs and development programs in india as a scientist. for developing india's agni missile, kalam was called 'missile man.'abdul kalam made a special technological and scientific contribution, for which, along with bharat ratna, india's highest honour, he was awarded the padma bhushan, padam vibhushan, etc. he was also awarded an honorary doctorate by more than universities in the world for the same. \""
      ]
     },
     "execution_count": 7,
     "metadata": {},
     "output_type": "execute_result"
    }
   ],
   "source": [
    "text"
   ]
  },
  {
   "cell_type": "code",
   "execution_count": 8,
   "id": "69a52461",
   "metadata": {},
   "outputs": [],
   "source": [
    "sentences=nltk.sent_tokenize(text)\n",
    "sentences=[nltk.word_tokenize(sentence) for sentence in sentences]"
   ]
  },
  {
   "cell_type": "code",
   "execution_count": 10,
   "id": "1398a591",
   "metadata": {},
   "outputs": [],
   "source": [
    "for i in range(len(sentences)):\n",
    "    sentences[i]=[word for word in sentences[i] if word not in stopwords.words('english')]"
   ]
  },
  {
   "cell_type": "code",
   "execution_count": 11,
   "id": "5f50e0ad",
   "metadata": {},
   "outputs": [],
   "source": [
    "model=Word2Vec(sentences, min_count=1)"
   ]
  },
  {
   "cell_type": "code",
   "execution_count": 14,
   "id": "faf692e6",
   "metadata": {},
   "outputs": [],
   "source": [
    "words=model.wv.index_to_key"
   ]
  },
  {
   "cell_type": "code",
   "execution_count": 15,
   "id": "e413035c",
   "metadata": {},
   "outputs": [
    {
     "data": {
      "text/plain": [
       "[',',\n",
       " '.',\n",
       " 'kalam',\n",
       " 'abdul',\n",
       " 'india',\n",
       " '’',\n",
       " \"'s\",\n",
       " 'nuclear',\n",
       " 'apj',\n",
       " 'successful',\n",
       " '‘',\n",
       " 'missile',\n",
       " 'man',\n",
       " 'programs',\n",
       " 'people',\n",
       " 'family',\n",
       " 'defense',\n",
       " 'since',\n",
       " 'know',\n",
       " 'childhood',\n",
       " 'enjoyed',\n",
       " 'degree',\n",
       " 'name',\n",
       " 'full',\n",
       " 'dr',\n",
       " 'awarded',\n",
       " 'kilometres',\n",
       " 'home',\n",
       " 'collect',\n",
       " 'ride',\n",
       " 'newspapers',\n",
       " 'morning',\n",
       " 'early',\n",
       " 'sell',\n",
       " 'wake',\n",
       " 'bicycle',\n",
       " 'world',\n",
       " 'admitted',\n",
       " 'st.',\n",
       " 'joseph',\n",
       " 'college',\n",
       " 'education',\n",
       " 'tiruchirapalli',\n",
       " 'later',\n",
       " 'went',\n",
       " 'complete',\n",
       " 'physics',\n",
       " 'studied',\n",
       " 'madras',\n",
       " 'institute',\n",
       " 'would',\n",
       " 'birds',\n",
       " 'support',\n",
       " 'rameswaram',\n",
       " 'everyone',\n",
       " 'today',\n",
       " 'deliver',\n",
       " 'speech',\n",
       " 'avul',\n",
       " 'pakir',\n",
       " 'zainuldeben',\n",
       " 'mostly',\n",
       " 'addressed',\n",
       " 'president',\n",
       " 'born',\n",
       " 'poor',\n",
       " 'october',\n",
       " 'fees',\n",
       " 'flying',\n",
       " 'equally',\n",
       " 'curious',\n",
       " 'graduated',\n",
       " 'fly',\n",
       " 'air',\n",
       " '?',\n",
       " 'intelligent',\n",
       " 'reading',\n",
       " 'sufficient',\n",
       " 'income',\n",
       " 'school',\n",
       " 'technology',\n",
       " 'alam',\n",
       " 'aeronautical',\n",
       " 'active',\n",
       " \"'missile\",\n",
       " 'called',\n",
       " 'agni',\n",
       " 'developing',\n",
       " 'scientist',\n",
       " 'development',\n",
       " 'space',\n",
       " 'nations',\n",
       " 'engineering',\n",
       " 'nuclear-powered',\n",
       " 'list',\n",
       " 'included',\n",
       " 'supervision',\n",
       " 'year',\n",
       " 'pokhran',\n",
       " 'conducted',\n",
       " \"'abdul\",\n",
       " 'made',\n",
       " 'special',\n",
       " 'technological',\n",
       " 'doctorate',\n",
       " 'honorary',\n",
       " 'also',\n",
       " 'etc',\n",
       " 'vibhushan',\n",
       " 'padam',\n",
       " 'bhushan',\n",
       " 'padma',\n",
       " 'honour',\n",
       " 'highest',\n",
       " 'ratna',\n",
       " 'bharat',\n",
       " 'along',\n",
       " 'contribution',\n",
       " 'scientific',\n",
       " 'test',\n",
       " 'second',\n",
       " 'tests',\n",
       " 'one',\n",
       " 'entered',\n",
       " 'completing',\n",
       " 'life',\n",
       " 'achievements',\n",
       " 'numerous',\n",
       " 'accomplished',\n",
       " 'mistakes',\n",
       " 'learned',\n",
       " 'true',\n",
       " 'come',\n",
       " 'dream',\n",
       " 'make',\n",
       " 'pilot',\n",
       " 'wanted',\n",
       " 'universities',\n",
       " 'department',\n",
       " 'key',\n",
       " 'hero',\n",
       " 'figures',\n",
       " 'national',\n",
       " 'considered',\n",
       " 'organization',\n",
       " 'largest',\n",
       " 'country',\n",
       " 'isro',\n",
       " 'drdo',\n",
       " 'served',\n",
       " 'advisor',\n",
       " 'technical',\n",
       " 'ministry',\n",
       " 'indian',\n",
       " 'appointed',\n",
       " 'capabilities',\n",
       " 'building',\n",
       " 'greeting']"
      ]
     },
     "execution_count": 15,
     "metadata": {},
     "output_type": "execute_result"
    }
   ],
   "source": [
    "words"
   ]
  },
  {
   "cell_type": "code",
   "execution_count": 18,
   "id": "3ae0db60",
   "metadata": {},
   "outputs": [
    {
     "data": {
      "text/plain": [
       "(100,)"
      ]
     },
     "execution_count": 18,
     "metadata": {},
     "output_type": "execute_result"
    }
   ],
   "source": [
    "vector=model.wv['indian']\n",
    "vector.shape"
   ]
  },
  {
   "cell_type": "code",
   "execution_count": 20,
   "id": "be0890c7",
   "metadata": {},
   "outputs": [],
   "source": [
    "similar=model.wv.most_similar('indian')"
   ]
  },
  {
   "cell_type": "code",
   "execution_count": 21,
   "id": "60cae283",
   "metadata": {},
   "outputs": [
    {
     "data": {
      "text/plain": [
       "[('president', 0.33338797092437744),\n",
       " ('graduated', 0.2466488480567932),\n",
       " ('addressed', 0.2402353584766388),\n",
       " ('curious', 0.20805329084396362),\n",
       " ('one', 0.20661897957324982),\n",
       " ('sufficient', 0.198092520236969),\n",
       " ('institute', 0.16459864377975464),\n",
       " ('greeting', 0.16405783593654633),\n",
       " ('reading', 0.1610366851091385),\n",
       " ('technology', 0.1606689989566803)]"
      ]
     },
     "execution_count": 21,
     "metadata": {},
     "output_type": "execute_result"
    }
   ],
   "source": [
    "similar"
   ]
  },
  {
   "cell_type": "code",
   "execution_count": null,
   "id": "a3944cd5",
   "metadata": {},
   "outputs": [],
   "source": []
  }
 ],
 "metadata": {
  "kernelspec": {
   "display_name": "Python 3 (ipykernel)",
   "language": "python",
   "name": "python3"
  },
  "language_info": {
   "codemirror_mode": {
    "name": "ipython",
    "version": 3
   },
   "file_extension": ".py",
   "mimetype": "text/x-python",
   "name": "python",
   "nbconvert_exporter": "python",
   "pygments_lexer": "ipython3",
   "version": "3.9.7"
  }
 },
 "nbformat": 4,
 "nbformat_minor": 5
}
