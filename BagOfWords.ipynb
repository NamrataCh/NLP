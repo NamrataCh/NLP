{
 "cells": [
  {
   "cell_type": "markdown",
   "id": "6e52d2f8",
   "metadata": {},
   "source": [
    "### Bag of Words"
   ]
  },
  {
   "cell_type": "code",
   "execution_count": 1,
   "id": "bd60f9d3",
   "metadata": {},
   "outputs": [],
   "source": [
    "import nltk"
   ]
  },
  {
   "cell_type": "code",
   "execution_count": 2,
   "id": "77c5f73a",
   "metadata": {},
   "outputs": [],
   "source": [
    "paragraph=\"\"\"Greeting everyone. Today, I am here to deliver a speech on APJ Abdul Kalam. Dr APJ Abdul Kalam’s \n",
    "full name was Avul Pakir Zainuldeben Abdul Kalam, very few people know him by his full name as he was mostly\n",
    "addressed as ‘Missile Man of India’ and ‘People’s President’. He was born into a very poor family in Rameswaram \n",
    "on October 15, 1931. \n",
    "\n",
    " \n",
    "\n",
    "Since childhood, he enjoyed flying, and was equally curious to know how birds fly in the air? He was very intelligent\n",
    "and enjoyed reading, but his family did not have sufficient income for his school fees, so to support his education, \n",
    "he would wake up early in the morning and ride a bicycle 3 kilometres from home to collect newspapers and sell them. \n",
    "\n",
    "\n",
    "He was admitted to St. Joseph's College, Tiruchirapalli, and later he went on to complete a degree in physics in 1954 \n",
    "and then studied at the Madras Institute of Technology and graduated in aeronautical engineering in 1955. Since his \n",
    "childhood, Dr Abdul Alam wanted to be a pilot but couldn’t make his dream come true. He learned from his mistakes \n",
    "and accomplished numerous achievements in his life. After completing his degree, Abdul Kalam entered the Defense\n",
    "Department of India. He has been one of the key figures in building the nuclear capabilities of India.\n",
    "\n",
    " \n",
    "\n",
    "APJ Abdul Kalam was appointed to the Indian Ministry of Defense as a Technical Advisor in 1992, after which he served \n",
    "with DRDO and ISRO, the country's largest organization. Considered a national hero for successful nuclear tests in 1998,\n",
    "a second successful nuclear test was conducted in Pokhran the same year under his supervision, after which India was \n",
    "included in the list of nuclear-powered nations. Abdul Kalam has been active in all space programs and development\n",
    "programs in India as a scientist. For developing India's Agni missile, Kalam was called 'Missile Man.'Abdul Kalam made a \n",
    "special technological and scientific contribution, for which, along with Bharat Ratna, India's highest honour, he was \n",
    "awarded the Padma Bhushan, Padam Vibhushan, etc. He was also awarded an honorary doctorate by more than 30 universities \n",
    "in the world for the same. \"\"\""
   ]
  },
  {
   "cell_type": "code",
   "execution_count": 6,
   "id": "18980dcb",
   "metadata": {},
   "outputs": [],
   "source": [
    "## Cleaning the text\n",
    "\n",
    "import re\n",
    "from nltk.corpus import stopwords\n",
    "from nltk.stem import PorterStemmer\n",
    "from nltk.stem import WordNetLemmatizer\n",
    "\n",
    "\n"
   ]
  },
  {
   "cell_type": "code",
   "execution_count": 8,
   "id": "b760efaf",
   "metadata": {},
   "outputs": [],
   "source": [
    "ps=PorterStemmer()\n",
    "wordnet=WordNetLemmatizer()\n",
    "sentences=nltk.sent_tokenize(paragraph)\n",
    "corpus=[]"
   ]
  },
  {
   "cell_type": "code",
   "execution_count": 9,
   "id": "c9230716",
   "metadata": {},
   "outputs": [],
   "source": [
    "for i in range(len(sentences)):\n",
    "    review=re.sub(\"[^a-zA-Z]\", \" \", sentences[i])\n",
    "    review=review.lower()\n",
    "    review=review.split()\n",
    "    \n",
    "    review=[ps.stem(word) for word in review if word not in set(stopwords.words('english'))]\n",
    "    review=\" \".join(review)\n",
    "    corpus.append(review)\n",
    "    \n",
    "    \n",
    "    \n",
    "    "
   ]
  },
  {
   "cell_type": "code",
   "execution_count": 10,
   "id": "2d23edcf",
   "metadata": {},
   "outputs": [],
   "source": [
    "### Creating the bag of words model\n",
    "\n",
    "from sklearn.feature_extraction.text import CountVectorizer\n",
    "cv=CountVectorizer(max_features=1500)\n",
    "x=cv.fit_transform(corpus).toarray()\n"
   ]
  },
  {
   "cell_type": "code",
   "execution_count": 11,
   "id": "13ea58a1",
   "metadata": {},
   "outputs": [
    {
     "data": {
      "text/plain": [
       "array([[0, 0, 0, ..., 0, 0, 0],\n",
       "       [1, 0, 0, ..., 0, 0, 0],\n",
       "       [2, 0, 0, ..., 0, 0, 1],\n",
       "       ...,\n",
       "       [0, 0, 0, ..., 0, 0, 0],\n",
       "       [1, 0, 0, ..., 0, 0, 0],\n",
       "       [0, 0, 0, ..., 0, 0, 0]], dtype=int64)"
      ]
     },
     "execution_count": 11,
     "metadata": {},
     "output_type": "execute_result"
    }
   ],
   "source": [
    "x"
   ]
  },
  {
   "cell_type": "code",
   "execution_count": 12,
   "id": "a4321726",
   "metadata": {},
   "outputs": [
    {
     "data": {
      "text/plain": [
       "['greet everyon',\n",
       " 'today deliv speech apj abdul kalam',\n",
       " 'dr apj abdul kalam full name avul pakir zainuldeben abdul kalam peopl know full name mostli address missil man india peopl presid',\n",
       " 'born poor famili rameswaram octob',\n",
       " 'sinc childhood enjoy fli equal curiou know bird fli air',\n",
       " 'intellig enjoy read famili suffici incom school fee support educ would wake earli morn ride bicycl kilometr home collect newspap sell',\n",
       " 'admit st joseph colleg tiruchirap later went complet degre physic studi madra institut technolog graduat aeronaut engin',\n",
       " 'sinc childhood dr abdul alam want pilot make dream come true',\n",
       " 'learn mistak accomplish numer achiev life',\n",
       " 'complet degre abdul kalam enter defens depart india',\n",
       " 'one key figur build nuclear capabl india',\n",
       " 'apj abdul kalam appoint indian ministri defens technic advisor serv drdo isro countri largest organ',\n",
       " 'consid nation hero success nuclear test second success nuclear test conduct pokhran year supervis india includ list nuclear power nation',\n",
       " 'abdul kalam activ space program develop program india scientist',\n",
       " 'develop india agni missil kalam call missil man',\n",
       " 'abdul kalam made special technolog scientif contribut along bharat ratna india highest honour award padma bhushan padam vibhushan etc',\n",
       " 'also award honorari doctor univers world']"
      ]
     },
     "execution_count": 12,
     "metadata": {},
     "output_type": "execute_result"
    }
   ],
   "source": [
    "corpus"
   ]
  },
  {
   "cell_type": "code",
   "execution_count": 16,
   "id": "6ca6e547",
   "metadata": {},
   "outputs": [
    {
     "data": {
      "text/plain": [
       "array([2, 0, 0, 0, 1, 0, 0, 0, 0, 0, 0, 0, 0, 1, 0, 1, 0, 0, 0, 0, 0, 0,\n",
       "       0, 0, 0, 0, 0, 0, 0, 0, 0, 0, 0, 0, 0, 0, 0, 0, 0, 0, 0, 1, 0, 0,\n",
       "       0, 0, 0, 0, 0, 0, 0, 0, 0, 0, 0, 0, 2, 0, 0, 0, 0, 0, 0, 0, 0, 0,\n",
       "       1, 0, 0, 0, 0, 0, 2, 0, 0, 1, 0, 0, 0, 0, 0, 0, 0, 0, 1, 0, 1, 0,\n",
       "       0, 1, 2, 0, 0, 0, 0, 0, 0, 0, 0, 0, 1, 2, 0, 0, 0, 0, 0, 1, 0, 0,\n",
       "       0, 0, 0, 0, 0, 0, 0, 0, 0, 0, 0, 0, 0, 0, 0, 0, 0, 0, 0, 0, 0, 0,\n",
       "       0, 0, 0, 0, 0, 0, 0, 0, 0, 0, 0, 1], dtype=int64)"
      ]
     },
     "execution_count": 16,
     "metadata": {},
     "output_type": "execute_result"
    }
   ],
   "source": [
    "x[2]"
   ]
  },
  {
   "cell_type": "code",
   "execution_count": 17,
   "id": "bb72ba7d",
   "metadata": {},
   "outputs": [
    {
     "data": {
      "text/plain": [
       "'dr apj abdul kalam full name avul pakir zainuldeben abdul kalam peopl know full name mostli address missil man india peopl presid'"
      ]
     },
     "execution_count": 17,
     "metadata": {},
     "output_type": "execute_result"
    }
   ],
   "source": [
    "corpus[2]"
   ]
  },
  {
   "cell_type": "code",
   "execution_count": 19,
   "id": "516f7b79",
   "metadata": {},
   "outputs": [
    {
     "data": {
      "text/plain": [
       "(17, 144)"
      ]
     },
     "execution_count": 19,
     "metadata": {},
     "output_type": "execute_result"
    }
   ],
   "source": [
    "x.shape"
   ]
  },
  {
   "cell_type": "code",
   "execution_count": null,
   "id": "e0e713c6",
   "metadata": {},
   "outputs": [],
   "source": []
  }
 ],
 "metadata": {
  "kernelspec": {
   "display_name": "Python 3 (ipykernel)",
   "language": "python",
   "name": "python3"
  },
  "language_info": {
   "codemirror_mode": {
    "name": "ipython",
    "version": 3
   },
   "file_extension": ".py",
   "mimetype": "text/x-python",
   "name": "python",
   "nbconvert_exporter": "python",
   "pygments_lexer": "ipython3",
   "version": "3.9.7"
  }
 },
 "nbformat": 4,
 "nbformat_minor": 5
}
